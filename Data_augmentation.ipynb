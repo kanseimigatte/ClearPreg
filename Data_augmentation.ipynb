{
 "cells": [
  {
   "cell_type": "code",
   "execution_count": null,
   "metadata": {},
   "outputs": [],
   "source": [
    "from PIL import Image\n",
    "import os\n",
    "\n",
    "def process_image(image_path, output_dir, filename):\n",
    "    try:\n",
    "        # Open the image\n",
    "        with Image.open(image_path) as img:\n",
    "            # Resize the image to 300x300\n",
    "            img = img.resize((300, 300))\n",
    "            \n",
    "            # Convert the image to grayscale\n",
    "            img = img.convert(\"L\")\n",
    "            \n",
    "            # Rotate the image in 40 degree increments and save\n",
    "            for angle in range(40, 361, 40):\n",
    "                rotated_img = img.rotate(-angle, expand=True)\n",
    "                rotated_filename = f\"{filename.split('.')[0]}_{angle}.jpg\"\n",
    "                output_path = os.path.join(output_dir, rotated_filename)\n",
    "                rotated_img.save(output_path)\n",
    "                print(f\"Processed {output_path}\")\n",
    "    except Exception as e:\n",
    "        print(f\"Error processing {image_path}: {e}\")\n",
    "\n",
    "def process_directory(input_dir, output_dir):\n",
    "    if not os.path.exists(output_dir):\n",
    "        os.makedirs(output_dir)\n",
    "\n",
    "    for filename in os.listdir(input_dir):\n",
    "        if filename.endswith(\".jpg\"):\n",
    "            input_path = os.path.join(input_dir, filename)\n",
    "            process_image(input_path, output_dir, filename)\n",
    "\n"
   ]
  },
  {
   "cell_type": "code",
   "execution_count": null,
   "metadata": {},
   "outputs": [],
   "source": [
    "# Define the directories for input and output images\n",
    "negative_images_dir = 'negative_images'\n",
    "positive_images_dir = 'positive_images'\n",
    "output_negative_images_dir = 'processed_negative_images'\n",
    "output_positive_images_dir = 'processed_positive_images'\n",
    "\n",
    "# Process the images in both directories\n",
    "process_directory(negative_images_dir, output_negative_images_dir)\n",
    "process_directory(positive_images_dir, output_positive_images_dir)"
   ]
  },
  {
   "cell_type": "code",
   "execution_count": 14,
   "metadata": {},
   "outputs": [],
   "source": [
    "from PIL import Image\n",
    "import os\n",
    "\n",
    "def process_image(image_path, output_dir, filename):\n",
    "    try:\n",
    "        # Open the image\n",
    "        with Image.open(image_path) as img:\n",
    "            # Resize the image\n",
    "            img = img.resize((350, 350))\n",
    "            \n",
    "            # Convert the image to grayscale\n",
    "            img = img.convert(\"L\")\n",
    "            # Construct the full output path\n",
    "            output_path = os.path.join(output_dir, filename)\n",
    "            \n",
    "            # Save the processed image\n",
    "            img.save(output_path)\n",
    "    except Exception as e:\n",
    "        print(f\"Error processing {image_path}: {e}\")\n",
    "\n",
    "def process_directory(input_dir, output_dir):\n",
    "    if not os.path.exists(output_dir):\n",
    "        os.makedirs(output_dir)\n",
    "\n",
    "    for filename in os.listdir(input_dir):\n",
    "        if filename.endswith(\".png\"):\n",
    "            input_path = os.path.join(input_dir, filename)\n",
    "            process_image(input_path, output_dir, filename)"
   ]
  },
  {
   "cell_type": "code",
   "execution_count": 4,
   "metadata": {},
   "outputs": [],
   "source": [
    "from PIL import Image\n",
    "import os\n",
    "\n",
    "def resize_image(image_path, size=(350, 350)):\n",
    "    try:\n",
    "        # Open the image\n",
    "        with Image.open(image_path) as img:\n",
    "            img = img.resize(size)\n",
    "            img.save(image_path)\n",
    "            print(f\"Resized and saved {image_path}\")\n",
    "    except Exception as e:\n",
    "        print(f\"Error processing {image_path}: {e}\")\n",
    "\n",
    "def process_directory(directory, size=(350, 350)):\n",
    "    for filename in os.listdir(directory):\n",
    "        if filename.endswith(\".png\"):\n",
    "            image_path = os.path.join(directory, filename)\n",
    "            resize_image(image_path, size)\n",
    "\n"
   ]
  },
  {
   "cell_type": "code",
   "execution_count": null,
   "metadata": {},
   "outputs": [],
   "source": [
    "# Define the directories for input images\n",
    "negative_dir = 'processed_negative_images'\n",
    "positive_dir = 'processed_positive_images'\n",
    "\n",
    "# Process the images in both directories\n",
    "process_directory(negative_dir)\n",
    "process_directory(positive_dir)"
   ]
  },
  {
   "cell_type": "code",
   "execution_count": 17,
   "metadata": {},
   "outputs": [],
   "source": [
    "test_dir ='Models/test_data'\n",
    "output_test_images_dir = 'processed_test_images'\n",
    "process_directory(test_dir, output_test_images_dir)"
   ]
  }
 ],
 "metadata": {
  "kernelspec": {
   "display_name": "base",
   "language": "python",
   "name": "python3"
  },
  "language_info": {
   "codemirror_mode": {
    "name": "ipython",
    "version": 3
   },
   "file_extension": ".py",
   "mimetype": "text/x-python",
   "name": "python",
   "nbconvert_exporter": "python",
   "pygments_lexer": "ipython3",
   "version": "2022.10.-1"
  }
 },
 "nbformat": 4,
 "nbformat_minor": 2
}
